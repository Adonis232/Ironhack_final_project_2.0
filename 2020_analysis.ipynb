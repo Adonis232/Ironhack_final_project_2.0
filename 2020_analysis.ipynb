{
 "cells": [
  {
   "cell_type": "code",
   "execution_count": 82,
   "metadata": {},
   "outputs": [],
   "source": [
    "import pandas as pd\n",
    "import numpy as np\n",
    "import matplotlib as mlp\n",
    "import matplotlib.pyplot as plt\n",
    "import matplotlib.patheffects as pe\n",
    "\n",
    "%matplotlib inline"
   ]
  },
  {
   "cell_type": "code",
   "execution_count": 10,
   "metadata": {},
   "outputs": [],
   "source": [
    "pd.set_option('display.max_columns', None)"
   ]
  },
  {
   "cell_type": "code",
   "execution_count": 31,
   "metadata": {},
   "outputs": [
    {
     "data": {
      "text/html": [
       "<script>\n",
       "code_show=true; \n",
       "function code_toggle() {\n",
       " if (code_show){\n",
       " $('div.input').hide();\n",
       " } else {\n",
       " $('div.input').show();\n",
       " }\n",
       " code_show = !code_show\n",
       "} \n",
       "$( document ).ready(code_toggle);\n",
       "</script>\n",
       "<form action=\"javascript:code_toggle()\"><input type=\"submit\" value=\"Click here to toggle on/off the raw code.\"></form>"
      ],
      "text/plain": [
       "<IPython.core.display.HTML object>"
      ]
     },
     "execution_count": 31,
     "metadata": {},
     "output_type": "execute_result"
    }
   ],
   "source": [
    "from IPython.display import HTML\n",
    "\n",
    "HTML('''<script>\n",
    "code_show=true; \n",
    "function code_toggle() {\n",
    " if (code_show){\n",
    " $('div.input').hide();\n",
    " } else {\n",
    " $('div.input').show();\n",
    " }\n",
    " code_show = !code_show\n",
    "} \n",
    "$( document ).ready(code_toggle);\n",
    "</script>\n",
    "<form action=\"javascript:code_toggle()\"><input type=\"submit\" value=\"Click here to toggle on/off the raw code.\"></form>''')"
   ]
  },
  {
   "cell_type": "code",
   "execution_count": 11,
   "metadata": {},
   "outputs": [],
   "source": [
    "df = pd.read_csv('./data/epl2020.csv')"
   ]
  },
  {
   "cell_type": "code",
   "execution_count": 12,
   "metadata": {},
   "outputs": [
    {
     "data": {
      "text/html": [
       "<div>\n",
       "<style scoped>\n",
       "    .dataframe tbody tr th:only-of-type {\n",
       "        vertical-align: middle;\n",
       "    }\n",
       "\n",
       "    .dataframe tbody tr th {\n",
       "        vertical-align: top;\n",
       "    }\n",
       "\n",
       "    .dataframe thead th {\n",
       "        text-align: right;\n",
       "    }\n",
       "</style>\n",
       "<table border=\"1\" class=\"dataframe\">\n",
       "  <thead>\n",
       "    <tr style=\"text-align: right;\">\n",
       "      <th></th>\n",
       "      <th>Unnamed: 0</th>\n",
       "      <th>h_a</th>\n",
       "      <th>xG</th>\n",
       "      <th>xGA</th>\n",
       "      <th>npxG</th>\n",
       "      <th>npxGA</th>\n",
       "      <th>deep</th>\n",
       "      <th>deep_allowed</th>\n",
       "      <th>scored</th>\n",
       "      <th>missed</th>\n",
       "      <th>xpts</th>\n",
       "      <th>result</th>\n",
       "      <th>date</th>\n",
       "      <th>wins</th>\n",
       "      <th>draws</th>\n",
       "      <th>loses</th>\n",
       "      <th>pts</th>\n",
       "      <th>npxGD</th>\n",
       "      <th>teamId</th>\n",
       "      <th>ppda_cal</th>\n",
       "      <th>allowed_ppda</th>\n",
       "      <th>matchtime</th>\n",
       "      <th>tot_points</th>\n",
       "      <th>round</th>\n",
       "      <th>tot_goal</th>\n",
       "      <th>tot_con</th>\n",
       "      <th>Referee.x</th>\n",
       "      <th>HS.x</th>\n",
       "      <th>HST.x</th>\n",
       "      <th>HF.x</th>\n",
       "      <th>HC.x</th>\n",
       "      <th>HY.x</th>\n",
       "      <th>HR.x</th>\n",
       "      <th>AS.x</th>\n",
       "      <th>AST.x</th>\n",
       "      <th>AF.x</th>\n",
       "      <th>AC.x</th>\n",
       "      <th>AY.x</th>\n",
       "      <th>AR.x</th>\n",
       "      <th>B365H.x</th>\n",
       "      <th>B365D.x</th>\n",
       "      <th>B365A.x</th>\n",
       "      <th>HtrgPerc</th>\n",
       "      <th>AtrgPerc</th>\n",
       "      <th>matchDay</th>\n",
       "    </tr>\n",
       "  </thead>\n",
       "  <tbody>\n",
       "    <tr>\n",
       "      <th>0</th>\n",
       "      <td>1</td>\n",
       "      <td>h</td>\n",
       "      <td>2.234560</td>\n",
       "      <td>0.842407</td>\n",
       "      <td>2.234560</td>\n",
       "      <td>0.842407</td>\n",
       "      <td>11</td>\n",
       "      <td>5</td>\n",
       "      <td>4</td>\n",
       "      <td>1</td>\n",
       "      <td>2.3863</td>\n",
       "      <td>w</td>\n",
       "      <td>2019-08-09 20:00:00</td>\n",
       "      <td>1</td>\n",
       "      <td>0</td>\n",
       "      <td>0</td>\n",
       "      <td>3</td>\n",
       "      <td>1.392153</td>\n",
       "      <td>Liverpool</td>\n",
       "      <td>5.942857</td>\n",
       "      <td>21.454545</td>\n",
       "      <td>20</td>\n",
       "      <td>3</td>\n",
       "      <td>1</td>\n",
       "      <td>4</td>\n",
       "      <td>1</td>\n",
       "      <td>M Oliver</td>\n",
       "      <td>15</td>\n",
       "      <td>7</td>\n",
       "      <td>9</td>\n",
       "      <td>11</td>\n",
       "      <td>0</td>\n",
       "      <td>0</td>\n",
       "      <td>12</td>\n",
       "      <td>5</td>\n",
       "      <td>9</td>\n",
       "      <td>2</td>\n",
       "      <td>2</td>\n",
       "      <td>0</td>\n",
       "      <td>1.14</td>\n",
       "      <td>10.0</td>\n",
       "      <td>19.00</td>\n",
       "      <td>0.466667</td>\n",
       "      <td>0.416667</td>\n",
       "      <td>Fri</td>\n",
       "    </tr>\n",
       "    <tr>\n",
       "      <th>1</th>\n",
       "      <td>2</td>\n",
       "      <td>a</td>\n",
       "      <td>0.842407</td>\n",
       "      <td>2.234560</td>\n",
       "      <td>0.842407</td>\n",
       "      <td>2.234560</td>\n",
       "      <td>5</td>\n",
       "      <td>11</td>\n",
       "      <td>1</td>\n",
       "      <td>4</td>\n",
       "      <td>0.4405</td>\n",
       "      <td>l</td>\n",
       "      <td>2019-08-09 20:00:00</td>\n",
       "      <td>0</td>\n",
       "      <td>0</td>\n",
       "      <td>1</td>\n",
       "      <td>0</td>\n",
       "      <td>-1.392153</td>\n",
       "      <td>Norwich</td>\n",
       "      <td>21.454545</td>\n",
       "      <td>5.942857</td>\n",
       "      <td>20</td>\n",
       "      <td>0</td>\n",
       "      <td>1</td>\n",
       "      <td>1</td>\n",
       "      <td>4</td>\n",
       "      <td>M Oliver</td>\n",
       "      <td>15</td>\n",
       "      <td>7</td>\n",
       "      <td>9</td>\n",
       "      <td>11</td>\n",
       "      <td>0</td>\n",
       "      <td>0</td>\n",
       "      <td>12</td>\n",
       "      <td>5</td>\n",
       "      <td>9</td>\n",
       "      <td>2</td>\n",
       "      <td>2</td>\n",
       "      <td>0</td>\n",
       "      <td>1.14</td>\n",
       "      <td>10.0</td>\n",
       "      <td>19.00</td>\n",
       "      <td>0.466667</td>\n",
       "      <td>0.416667</td>\n",
       "      <td>Fri</td>\n",
       "    </tr>\n",
       "    <tr>\n",
       "      <th>2</th>\n",
       "      <td>3</td>\n",
       "      <td>a</td>\n",
       "      <td>3.183770</td>\n",
       "      <td>1.200300</td>\n",
       "      <td>2.422640</td>\n",
       "      <td>1.200300</td>\n",
       "      <td>9</td>\n",
       "      <td>1</td>\n",
       "      <td>5</td>\n",
       "      <td>0</td>\n",
       "      <td>2.6312</td>\n",
       "      <td>w</td>\n",
       "      <td>2019-08-10 12:30:00</td>\n",
       "      <td>1</td>\n",
       "      <td>0</td>\n",
       "      <td>0</td>\n",
       "      <td>3</td>\n",
       "      <td>1.222340</td>\n",
       "      <td>Man City</td>\n",
       "      <td>6.935484</td>\n",
       "      <td>16.400000</td>\n",
       "      <td>12</td>\n",
       "      <td>3</td>\n",
       "      <td>1</td>\n",
       "      <td>5</td>\n",
       "      <td>0</td>\n",
       "      <td>M Dean</td>\n",
       "      <td>5</td>\n",
       "      <td>3</td>\n",
       "      <td>6</td>\n",
       "      <td>1</td>\n",
       "      <td>2</td>\n",
       "      <td>0</td>\n",
       "      <td>14</td>\n",
       "      <td>9</td>\n",
       "      <td>13</td>\n",
       "      <td>1</td>\n",
       "      <td>2</td>\n",
       "      <td>0</td>\n",
       "      <td>12.00</td>\n",
       "      <td>6.5</td>\n",
       "      <td>1.22</td>\n",
       "      <td>0.600000</td>\n",
       "      <td>0.642857</td>\n",
       "      <td>Sat</td>\n",
       "    </tr>\n",
       "    <tr>\n",
       "      <th>3</th>\n",
       "      <td>4</td>\n",
       "      <td>h</td>\n",
       "      <td>1.200300</td>\n",
       "      <td>3.183770</td>\n",
       "      <td>1.200300</td>\n",
       "      <td>2.422640</td>\n",
       "      <td>1</td>\n",
       "      <td>9</td>\n",
       "      <td>0</td>\n",
       "      <td>5</td>\n",
       "      <td>0.2522</td>\n",
       "      <td>l</td>\n",
       "      <td>2019-08-10 12:30:00</td>\n",
       "      <td>0</td>\n",
       "      <td>0</td>\n",
       "      <td>1</td>\n",
       "      <td>0</td>\n",
       "      <td>-1.222340</td>\n",
       "      <td>West Ham</td>\n",
       "      <td>16.400000</td>\n",
       "      <td>6.935484</td>\n",
       "      <td>12</td>\n",
       "      <td>0</td>\n",
       "      <td>1</td>\n",
       "      <td>0</td>\n",
       "      <td>5</td>\n",
       "      <td>M Dean</td>\n",
       "      <td>5</td>\n",
       "      <td>3</td>\n",
       "      <td>6</td>\n",
       "      <td>1</td>\n",
       "      <td>2</td>\n",
       "      <td>0</td>\n",
       "      <td>14</td>\n",
       "      <td>9</td>\n",
       "      <td>13</td>\n",
       "      <td>1</td>\n",
       "      <td>2</td>\n",
       "      <td>0</td>\n",
       "      <td>12.00</td>\n",
       "      <td>6.5</td>\n",
       "      <td>1.22</td>\n",
       "      <td>0.600000</td>\n",
       "      <td>0.642857</td>\n",
       "      <td>Sat</td>\n",
       "    </tr>\n",
       "    <tr>\n",
       "      <th>4</th>\n",
       "      <td>5</td>\n",
       "      <td>h</td>\n",
       "      <td>1.340990</td>\n",
       "      <td>1.598640</td>\n",
       "      <td>1.340990</td>\n",
       "      <td>1.598640</td>\n",
       "      <td>4</td>\n",
       "      <td>6</td>\n",
       "      <td>1</td>\n",
       "      <td>1</td>\n",
       "      <td>1.0172</td>\n",
       "      <td>d</td>\n",
       "      <td>2019-08-10 15:00:00</td>\n",
       "      <td>0</td>\n",
       "      <td>1</td>\n",
       "      <td>0</td>\n",
       "      <td>1</td>\n",
       "      <td>-0.257650</td>\n",
       "      <td>Bournemouth</td>\n",
       "      <td>13.600000</td>\n",
       "      <td>9.133333</td>\n",
       "      <td>15</td>\n",
       "      <td>1</td>\n",
       "      <td>1</td>\n",
       "      <td>1</td>\n",
       "      <td>1</td>\n",
       "      <td>K Friend</td>\n",
       "      <td>13</td>\n",
       "      <td>3</td>\n",
       "      <td>10</td>\n",
       "      <td>3</td>\n",
       "      <td>2</td>\n",
       "      <td>0</td>\n",
       "      <td>8</td>\n",
       "      <td>3</td>\n",
       "      <td>19</td>\n",
       "      <td>4</td>\n",
       "      <td>1</td>\n",
       "      <td>0</td>\n",
       "      <td>1.95</td>\n",
       "      <td>3.6</td>\n",
       "      <td>3.60</td>\n",
       "      <td>0.230769</td>\n",
       "      <td>0.375000</td>\n",
       "      <td>Sat</td>\n",
       "    </tr>\n",
       "  </tbody>\n",
       "</table>\n",
       "</div>"
      ],
      "text/plain": [
       "   Unnamed: 0 h_a        xG       xGA      npxG     npxGA  deep  deep_allowed  \\\n",
       "0           1   h  2.234560  0.842407  2.234560  0.842407    11             5   \n",
       "1           2   a  0.842407  2.234560  0.842407  2.234560     5            11   \n",
       "2           3   a  3.183770  1.200300  2.422640  1.200300     9             1   \n",
       "3           4   h  1.200300  3.183770  1.200300  2.422640     1             9   \n",
       "4           5   h  1.340990  1.598640  1.340990  1.598640     4             6   \n",
       "\n",
       "   scored  missed    xpts result                 date  wins  draws  loses  \\\n",
       "0       4       1  2.3863      w  2019-08-09 20:00:00     1      0      0   \n",
       "1       1       4  0.4405      l  2019-08-09 20:00:00     0      0      1   \n",
       "2       5       0  2.6312      w  2019-08-10 12:30:00     1      0      0   \n",
       "3       0       5  0.2522      l  2019-08-10 12:30:00     0      0      1   \n",
       "4       1       1  1.0172      d  2019-08-10 15:00:00     0      1      0   \n",
       "\n",
       "   pts     npxGD       teamId   ppda_cal  allowed_ppda  matchtime  tot_points  \\\n",
       "0    3  1.392153    Liverpool   5.942857     21.454545         20           3   \n",
       "1    0 -1.392153      Norwich  21.454545      5.942857         20           0   \n",
       "2    3  1.222340     Man City   6.935484     16.400000         12           3   \n",
       "3    0 -1.222340     West Ham  16.400000      6.935484         12           0   \n",
       "4    1 -0.257650  Bournemouth  13.600000      9.133333         15           1   \n",
       "\n",
       "   round  tot_goal  tot_con Referee.x  HS.x  HST.x  HF.x  HC.x  HY.x  HR.x  \\\n",
       "0      1         4        1  M Oliver    15      7     9    11     0     0   \n",
       "1      1         1        4  M Oliver    15      7     9    11     0     0   \n",
       "2      1         5        0    M Dean     5      3     6     1     2     0   \n",
       "3      1         0        5    M Dean     5      3     6     1     2     0   \n",
       "4      1         1        1  K Friend    13      3    10     3     2     0   \n",
       "\n",
       "   AS.x  AST.x  AF.x  AC.x  AY.x  AR.x  B365H.x  B365D.x  B365A.x  HtrgPerc  \\\n",
       "0    12      5     9     2     2     0     1.14     10.0    19.00  0.466667   \n",
       "1    12      5     9     2     2     0     1.14     10.0    19.00  0.466667   \n",
       "2    14      9    13     1     2     0    12.00      6.5     1.22  0.600000   \n",
       "3    14      9    13     1     2     0    12.00      6.5     1.22  0.600000   \n",
       "4     8      3    19     4     1     0     1.95      3.6     3.60  0.230769   \n",
       "\n",
       "   AtrgPerc matchDay  \n",
       "0  0.416667      Fri  \n",
       "1  0.416667      Fri  \n",
       "2  0.642857      Sat  \n",
       "3  0.642857      Sat  \n",
       "4  0.375000      Sat  "
      ]
     },
     "execution_count": 12,
     "metadata": {},
     "output_type": "execute_result"
    }
   ],
   "source": [
    "df.head()"
   ]
  },
  {
   "cell_type": "code",
   "execution_count": 9,
   "metadata": {},
   "outputs": [
    {
     "data": {
      "text/plain": [
       "Index(['Unnamed: 0', 'h_a', 'xG', 'xGA', 'npxG', 'npxGA', 'deep',\n",
       "       'deep_allowed', 'scored', 'missed', 'xpts', 'result', 'date', 'wins',\n",
       "       'draws', 'loses', 'pts', 'npxGD', 'teamId', 'ppda_cal', 'allowed_ppda',\n",
       "       'matchtime', 'tot_points', 'round', 'tot_goal', 'tot_con', 'Referee.x',\n",
       "       'HS.x', 'HST.x', 'HF.x', 'HC.x', 'HY.x', 'HR.x', 'AS.x', 'AST.x',\n",
       "       'AF.x', 'AC.x', 'AY.x', 'AR.x', 'B365H.x', 'B365D.x', 'B365A.x',\n",
       "       'HtrgPerc', 'AtrgPerc', 'matchDay'],\n",
       "      dtype='object')"
      ]
     },
     "execution_count": 9,
     "metadata": {},
     "output_type": "execute_result"
    }
   ],
   "source": [
    "df.columns"
   ]
  },
  {
   "cell_type": "markdown",
   "metadata": {},
   "source": [
    " # Getting names "
   ]
  },
  {
   "cell_type": "code",
   "execution_count": 20,
   "metadata": {},
   "outputs": [],
   "source": [
    "teams = df.teamId.unique()"
   ]
  },
  {
   "cell_type": "code",
   "execution_count": 29,
   "metadata": {},
   "outputs": [],
   "source": [
    "#giving colors to each team\n",
    "\n",
    "\n",
    "t_color = { 'Liverpool':'#c8102e', 'Norwich':'#fff200', 'Man City':'#6cabdd', 'West Ham':'#7a263a', 'Bournemouth':'#da291c',\n",
    "       'Brighton':'#0057b8', 'Burnley':'#6c1d45', 'Crystal Palace':'#1b458f', 'Everton':'#003399',\n",
    "       'Sheffield United':'#ee2737', 'Southampton':'#d71920', 'Watford':'#fbee23', 'Aston Villa':'#95bfe5',\n",
    "       'Tottenham':'#132257', 'Arsenal':'#ef0107', 'Leicester':'#003090', 'Newcastle United':'#241f20', 'Wolves':'#fdb913',\n",
    "       'Chelsea':'#034694', 'Man Utd':'#da291c'}"
   ]
  },
  {
   "cell_type": "code",
   "execution_count": 30,
   "metadata": {},
   "outputs": [
    {
     "data": {
      "image/png": "[encoded data removed]",
      "text/plain": [
       "<Figure size 144x720 with 1 Axes>"
      ]
     },
     "metadata": {
      "needs_background": "light"
     },
     "output_type": "display_data"
    }
   ],
   "source": [
    "#create a figure\n",
    "\n",
    "fig = plt.figure(figsize=(2,10))\n",
    "ax = fig.add_subplot(111, facecolor='white')\n",
    "\n",
    "\n",
    "y_val= 0\n",
    "for team in sorted(teams, reverse=True):\n",
    "    ax.fill_between([0,1], y_val+0.1, y_val+0.8, color=t_color[team])\n",
    "    y_val+=1\n",
    "    \n",
    "ax.set_xticks([])\n",
    "\n",
    "ax.set_yticks(np.arange(0.5, 20, 1))\n",
    "ax.set_yticklabels(sorted(teams, reverse=True))\n",
    "ax.set_title('Color given to each team')\n",
    "\n",
    "plt.show()\n"
   ]
  },
  {
   "cell_type": "markdown",
   "metadata": {},
   "source": [
    "## Getting the expected points"
   ]
  },
  {
   "cell_type": "code",
   "execution_count": 33,
   "metadata": {},
   "outputs": [],
   "source": [
    "real_pts = {}\n",
    "expect_pts = {}\n",
    "\n",
    "for team in teams:\n",
    "    real_pts[team] = df[df['teamId'] == team].pts.sum()\n",
    "    expect_pts[team] = df[df['teamId'] == team].xpts.sum()\n",
    "    \n",
    "    \n",
    "# Sort by points difference\n",
    "\n",
    "pts_diff = {team:real_pts[team] - expect_pts[team] for team in teams}\n",
    "sort_teams = sorted(pts_diff.keys(), key=pts_diff.get)\n"
   ]
  },
  {
   "cell_type": "markdown",
   "metadata": {},
   "source": [
    "## Plotting difference in points"
   ]
  },
  {
   "cell_type": "code",
   "execution_count": 45,
   "metadata": {},
   "outputs": [
    {
     "data": {
      "image/png": "[encoded data removed]",
      "text/plain": [
       "<Figure size 576x432 with 2 Axes>"
      ]
     },
     "metadata": {
      "needs_background": "light"
     },
     "output_type": "display_data"
    }
   ],
   "source": [
    "#figure\n",
    "\n",
    "fig = plt.figure(figsize=(8,6))\n",
    "ax = fig.add_axes([0,0,1,1])\n",
    "\n",
    "#colors\n",
    "\n",
    "colors= plt.get_cmap('PuOr', 2)\n",
    "\n",
    "#data points to connect with a line\n",
    "\n",
    "yval = 0\n",
    "for team in sort_teams:\n",
    "    if real_pts[team] > expect_pts[team]:\n",
    "        fill_color=colors(0)\n",
    "    else:\n",
    "        fill_color=colors(1)\n",
    "    ax.plot([real_pts[team], expect_pts[team]],[yval, yval], linestyle='--', linewidth=2, color=fill_color)\n",
    "    ax.plot(real_pts[team], yval, 'o', color=fill_color, markersize=10)\n",
    "    ax.plot(expect_pts[team], yval, 'o', color='white', markeredgecolor=fill_color, markeredgewidth=2, markersize=10)\n",
    "    yval +=1\n",
    "    \n",
    "ax.grid(color='white', linewidth=2)\n",
    "\n",
    "\n",
    "#labels for points\n",
    "\n",
    "ax.set_xticks(np.arange(0,10,10))\n",
    "\n",
    "#team label\n",
    "\n",
    "ax.set_yticks(np.arange(0, len(sort_teams), 1))\n",
    "ax.set_yticklabels(sort_teams)\n",
    "\n",
    "#limits\n",
    "\n",
    "\n",
    "ax.set_xlim(0, 100)\n",
    "\n",
    "\n",
    "#labels\n",
    "\n",
    "\n",
    "ax.set_xlabel('POINTS')\n",
    "\n",
    "leg=fig.add_axes([0.7, 0.01, 0.28, 0.12])\n",
    "leg.plot([0], [1], 'o', color='black', markersize=10)\n",
    "leg.text(0.3, 1, 'Points made', ha='left', va='center')\n",
    "leg.plot([0],[0], 'o', color='white', markeredgecolor='black', markeredgewidth=2, markersize=10)\n",
    "leg.text(0.3, 0, 'Predicted points', ha='left', va='center')\n",
    "leg.set_xticks([])\n",
    "leg.set_yticks([])\n",
    "leg.set_xlim(-0.3, 2.3)\n",
    "leg.set_ylim(-0.5, 1.5)\n",
    "\n",
    "plt.show()"
   ]
  },
  {
   "cell_type": "markdown",
   "metadata": {},
   "source": [
    "# Player analysis"
   ]
  },
  {
   "cell_type": "code",
   "execution_count": 54,
   "metadata": {},
   "outputs": [
    {
     "data": {
      "text/html": [
       "<div>\n",
       "<style scoped>\n",
       "    .dataframe tbody tr th:only-of-type {\n",
       "        vertical-align: middle;\n",
       "    }\n",
       "\n",
       "    .dataframe tbody tr th {\n",
       "        vertical-align: top;\n",
       "    }\n",
       "\n",
       "    .dataframe thead th {\n",
       "        text-align: right;\n",
       "    }\n",
       "</style>\n",
       "<table border=\"1\" class=\"dataframe\">\n",
       "  <thead>\n",
       "    <tr style=\"text-align: right;\">\n",
       "      <th></th>\n",
       "      <th>Unnamed: 0</th>\n",
       "      <th>assists</th>\n",
       "      <th>bonus</th>\n",
       "      <th>bps</th>\n",
       "      <th>clean_sheets</th>\n",
       "      <th>creativity</th>\n",
       "      <th>element</th>\n",
       "      <th>fixture</th>\n",
       "      <th>goals_conceded</th>\n",
       "      <th>goals_scored</th>\n",
       "      <th>ict_index</th>\n",
       "      <th>influence</th>\n",
       "      <th>kickoff_time</th>\n",
       "      <th>minutes</th>\n",
       "      <th>opponent_team</th>\n",
       "      <th>own_goals</th>\n",
       "      <th>penalties_missed</th>\n",
       "      <th>penalties_saved</th>\n",
       "      <th>red_cards</th>\n",
       "      <th>round</th>\n",
       "      <th>saves</th>\n",
       "      <th>selected</th>\n",
       "      <th>team_a_score</th>\n",
       "      <th>team_h_score</th>\n",
       "      <th>threat</th>\n",
       "      <th>total_points</th>\n",
       "      <th>transfers_balance</th>\n",
       "      <th>transfers_in</th>\n",
       "      <th>transfers_out</th>\n",
       "      <th>value</th>\n",
       "      <th>was_home</th>\n",
       "      <th>yellow_cards</th>\n",
       "      <th>full</th>\n",
       "      <th>team</th>\n",
       "    </tr>\n",
       "  </thead>\n",
       "  <tbody>\n",
       "    <tr>\n",
       "      <th>0</th>\n",
       "      <td>1</td>\n",
       "      <td>0</td>\n",
       "      <td>0</td>\n",
       "      <td>1</td>\n",
       "      <td>0</td>\n",
       "      <td>0.1</td>\n",
       "      <td>534</td>\n",
       "      <td>37</td>\n",
       "      <td>1</td>\n",
       "      <td>0</td>\n",
       "      <td>0.0</td>\n",
       "      <td>0.2</td>\n",
       "      <td>2019-08-31 14:00:00</td>\n",
       "      <td>24</td>\n",
       "      <td>Man City</td>\n",
       "      <td>0</td>\n",
       "      <td>0</td>\n",
       "      <td>0</td>\n",
       "      <td>0</td>\n",
       "      <td>4</td>\n",
       "      <td>0</td>\n",
       "      <td>0</td>\n",
       "      <td>0</td>\n",
       "      <td>4</td>\n",
       "      <td>0</td>\n",
       "      <td>1</td>\n",
       "      <td>0</td>\n",
       "      <td>0</td>\n",
       "      <td>0</td>\n",
       "      <td>45</td>\n",
       "      <td>False</td>\n",
       "      <td>0</td>\n",
       "      <td>Aaron Connolly</td>\n",
       "      <td>Brighton</td>\n",
       "    </tr>\n",
       "    <tr>\n",
       "      <th>1</th>\n",
       "      <td>2</td>\n",
       "      <td>0</td>\n",
       "      <td>0</td>\n",
       "      <td>1</td>\n",
       "      <td>0</td>\n",
       "      <td>0.3</td>\n",
       "      <td>534</td>\n",
       "      <td>43</td>\n",
       "      <td>1</td>\n",
       "      <td>0</td>\n",
       "      <td>2.2</td>\n",
       "      <td>1.0</td>\n",
       "      <td>2019-09-14 14:00:00</td>\n",
       "      <td>6</td>\n",
       "      <td>Burnley</td>\n",
       "      <td>0</td>\n",
       "      <td>0</td>\n",
       "      <td>0</td>\n",
       "      <td>0</td>\n",
       "      <td>5</td>\n",
       "      <td>0</td>\n",
       "      <td>14029</td>\n",
       "      <td>1</td>\n",
       "      <td>1</td>\n",
       "      <td>21</td>\n",
       "      <td>1</td>\n",
       "      <td>10589</td>\n",
       "      <td>13500</td>\n",
       "      <td>2911</td>\n",
       "      <td>45</td>\n",
       "      <td>True</td>\n",
       "      <td>0</td>\n",
       "      <td>Aaron Connolly</td>\n",
       "      <td>Brighton</td>\n",
       "    </tr>\n",
       "    <tr>\n",
       "      <th>2</th>\n",
       "      <td>3</td>\n",
       "      <td>0</td>\n",
       "      <td>0</td>\n",
       "      <td>1</td>\n",
       "      <td>0</td>\n",
       "      <td>4.8</td>\n",
       "      <td>534</td>\n",
       "      <td>58</td>\n",
       "      <td>0</td>\n",
       "      <td>0</td>\n",
       "      <td>2.5</td>\n",
       "      <td>2.0</td>\n",
       "      <td>2019-09-21 16:30:00</td>\n",
       "      <td>20</td>\n",
       "      <td>Newcastle United</td>\n",
       "      <td>0</td>\n",
       "      <td>0</td>\n",
       "      <td>0</td>\n",
       "      <td>0</td>\n",
       "      <td>6</td>\n",
       "      <td>0</td>\n",
       "      <td>22804</td>\n",
       "      <td>0</td>\n",
       "      <td>0</td>\n",
       "      <td>18</td>\n",
       "      <td>1</td>\n",
       "      <td>8090</td>\n",
       "      <td>11749</td>\n",
       "      <td>3659</td>\n",
       "      <td>45</td>\n",
       "      <td>False</td>\n",
       "      <td>0</td>\n",
       "      <td>Aaron Connolly</td>\n",
       "      <td>Brighton</td>\n",
       "    </tr>\n",
       "    <tr>\n",
       "      <th>3</th>\n",
       "      <td>4</td>\n",
       "      <td>0</td>\n",
       "      <td>0</td>\n",
       "      <td>2</td>\n",
       "      <td>0</td>\n",
       "      <td>0.6</td>\n",
       "      <td>534</td>\n",
       "      <td>63</td>\n",
       "      <td>1</td>\n",
       "      <td>0</td>\n",
       "      <td>0.1</td>\n",
       "      <td>0.2</td>\n",
       "      <td>2019-09-28 14:00:00</td>\n",
       "      <td>25</td>\n",
       "      <td>Chelsea</td>\n",
       "      <td>0</td>\n",
       "      <td>0</td>\n",
       "      <td>0</td>\n",
       "      <td>0</td>\n",
       "      <td>7</td>\n",
       "      <td>0</td>\n",
       "      <td>32699</td>\n",
       "      <td>0</td>\n",
       "      <td>2</td>\n",
       "      <td>0</td>\n",
       "      <td>1</td>\n",
       "      <td>8437</td>\n",
       "      <td>13439</td>\n",
       "      <td>5002</td>\n",
       "      <td>45</td>\n",
       "      <td>False</td>\n",
       "      <td>0</td>\n",
       "      <td>Aaron Connolly</td>\n",
       "      <td>Brighton</td>\n",
       "    </tr>\n",
       "    <tr>\n",
       "      <th>4</th>\n",
       "      <td>5</td>\n",
       "      <td>0</td>\n",
       "      <td>3</td>\n",
       "      <td>53</td>\n",
       "      <td>1</td>\n",
       "      <td>23.8</td>\n",
       "      <td>534</td>\n",
       "      <td>72</td>\n",
       "      <td>0</td>\n",
       "      <td>2</td>\n",
       "      <td>20.1</td>\n",
       "      <td>70.2</td>\n",
       "      <td>2019-10-05 11:30:00</td>\n",
       "      <td>79</td>\n",
       "      <td>Tottenham</td>\n",
       "      <td>0</td>\n",
       "      <td>0</td>\n",
       "      <td>0</td>\n",
       "      <td>0</td>\n",
       "      <td>8</td>\n",
       "      <td>0</td>\n",
       "      <td>35026</td>\n",
       "      <td>0</td>\n",
       "      <td>3</td>\n",
       "      <td>107</td>\n",
       "      <td>13</td>\n",
       "      <td>2156</td>\n",
       "      <td>5952</td>\n",
       "      <td>3796</td>\n",
       "      <td>45</td>\n",
       "      <td>True</td>\n",
       "      <td>0</td>\n",
       "      <td>Aaron Connolly</td>\n",
       "      <td>Brighton</td>\n",
       "    </tr>\n",
       "  </tbody>\n",
       "</table>\n",
       "</div>"
      ],
      "text/plain": [
       "   Unnamed: 0  assists  bonus  bps  clean_sheets  creativity  element  \\\n",
       "0           1        0      0    1             0         0.1      534   \n",
       "1           2        0      0    1             0         0.3      534   \n",
       "2           3        0      0    1             0         4.8      534   \n",
       "3           4        0      0    2             0         0.6      534   \n",
       "4           5        0      3   53             1        23.8      534   \n",
       "\n",
       "   fixture  goals_conceded  goals_scored  ict_index  influence  \\\n",
       "0       37               1             0        0.0        0.2   \n",
       "1       43               1             0        2.2        1.0   \n",
       "2       58               0             0        2.5        2.0   \n",
       "3       63               1             0        0.1        0.2   \n",
       "4       72               0             2       20.1       70.2   \n",
       "\n",
       "          kickoff_time  minutes     opponent_team  own_goals  \\\n",
       "0  2019-08-31 14:00:00       24          Man City          0   \n",
       "1  2019-09-14 14:00:00        6           Burnley          0   \n",
       "2  2019-09-21 16:30:00       20  Newcastle United          0   \n",
       "3  2019-09-28 14:00:00       25           Chelsea          0   \n",
       "4  2019-10-05 11:30:00       79         Tottenham          0   \n",
       "\n",
       "   penalties_missed  penalties_saved  red_cards  round  saves  selected  \\\n",
       "0                 0                0          0      4      0         0   \n",
       "1                 0                0          0      5      0     14029   \n",
       "2                 0                0          0      6      0     22804   \n",
       "3                 0                0          0      7      0     32699   \n",
       "4                 0                0          0      8      0     35026   \n",
       "\n",
       "   team_a_score  team_h_score  threat  total_points  transfers_balance  \\\n",
       "0             0             4       0             1                  0   \n",
       "1             1             1      21             1              10589   \n",
       "2             0             0      18             1               8090   \n",
       "3             0             2       0             1               8437   \n",
       "4             0             3     107            13               2156   \n",
       "\n",
       "   transfers_in  transfers_out  value  was_home  yellow_cards            full  \\\n",
       "0             0              0     45     False             0  Aaron Connolly   \n",
       "1         13500           2911     45      True             0  Aaron Connolly   \n",
       "2         11749           3659     45     False             0  Aaron Connolly   \n",
       "3         13439           5002     45     False             0  Aaron Connolly   \n",
       "4          5952           3796     45      True             0  Aaron Connolly   \n",
       "\n",
       "       team  \n",
       "0  Brighton  \n",
       "1  Brighton  \n",
       "2  Brighton  \n",
       "3  Brighton  \n",
       "4  Brighton  "
      ]
     },
     "execution_count": 54,
     "metadata": {},
     "output_type": "execute_result"
    }
   ],
   "source": [
    "data = pd.read_csv('./data/players.csv')\n",
    "data.head()"
   ]
  },
  {
   "cell_type": "code",
   "execution_count": 59,
   "metadata": {},
   "outputs": [],
   "source": [
    "player = pd.unique(data['full'])\n",
    "\n",
    "\n",
    "#here we have  alist of all players in our dataframe"
   ]
  },
  {
   "cell_type": "markdown",
   "metadata": {},
   "source": []
  },
  {
   "cell_type": "code",
   "execution_count": 61,
   "metadata": {},
   "outputs": [],
   "source": [
    "## Assists and goals\n",
    "\n",
    "assists = {}\n",
    "goals = {}\n",
    "\n",
    "for baller in players:\n",
    "    mins= data[data['full'] == baller].minutes.sum()/90.\n",
    "    if mins >= 10:\n",
    "        assists[player] = data[data['full'] == baller].assists.sum()/mins\n",
    "        goals[player] = data[data['full'] == baller].goals_scored.sum()/mins"
   ]
  },
  {
   "cell_type": "code",
   "execution_count": 62,
   "metadata": {},
   "outputs": [],
   "source": [
    "goaler = sorted(goals.keys(), key=goals.get, reverse=True)[:20]\n",
    "\n",
    "passer = sorted(assists.keys(), key=assists.get, reverse=True)[:20]"
   ]
  },
  {
   "cell_type": "code",
   "execution_count": 66,
   "metadata": {},
   "outputs": [
    {
     "data": {
      "text/plain": [
       "{}"
      ]
     },
     "execution_count": 66,
     "metadata": {},
     "output_type": "execute_result"
    }
   ],
   "source": [
    "goals"
   ]
  },
  {
   "cell_type": "markdown",
   "metadata": {},
   "source": [
    "## Best scorers"
   ]
  },
  {
   "cell_type": "code",
   "execution_count": 67,
   "metadata": {},
   "outputs": [
    {
     "data": {
      "image/png": "[encoded data removed]",
      "text/plain": [
       "<Figure size 936x936 with 1 Axes>"
      ]
     },
     "metadata": {
      "needs_background": "light"
     },
     "output_type": "display_data"
    }
   ],
   "source": [
    "fig = plt.figure(figsize=(13,13))\n",
    "ax = fig.add_subplot(111)\n",
    "\n",
    "#player\n",
    "\n",
    "for x in goaler:\n",
    "    team = data[data['full'] == x].team.iloc[0]\n",
    "    ax.plot(assists[player], goaler[player], 'o', color=team_colors[team],zorder=3)\n",
    "    text = ax.text(assists[player] + 0.01, goaler[player],size=14, va='center', ha='left', zorder=2)\n",
    "    text.set_path_effects([pe.Stroke(linewidth=5, foreground='w'), pe.Normal()])\n",
    "    \n",
    "#grid\n",
    "\n",
    "ax.grid(color='white', linewidth=2)\n",
    "\n",
    "#labels\n",
    "ax.set_xlabel('Assists per game', labelpad=14)\n",
    "ax.set_ylabel('Goals per game', labelpad=14)\n",
    "\n",
    "\n",
    "ax.set_xlim(0, 0.8)\n",
    "ax.set_ylim(0.4, 1)\n",
    "\n",
    "plt.show()"
   ]
  },
  {
   "cell_type": "markdown",
   "metadata": {},
   "source": [
    "## Assists"
   ]
  },
  {
   "cell_type": "code",
   "execution_count": 79,
   "metadata": {},
   "outputs": [
    {
     "data": {
      "image/png": "[encoded data removed]",
      "text/plain": [
       "<Figure size 936x936 with 1 Axes>"
      ]
     },
     "metadata": {
      "needs_background": "light"
     },
     "output_type": "display_data"
    }
   ],
   "source": [
    "fig = plt.figure(figsize=(13,13))\n",
    "ax = fig.add_subplot(111)\n",
    "\n",
    "for player in assists:\n",
    "    team = data[data['full'] == player].team.iloc[0]\n",
    "    ax.plot(assists[player], goaler[player], 'o', color=t_color[team], zorder=3)\n",
    "    text = ax.text(assists[player] +0.01, goaler[player], player[player], size=14, va='center', ha='left',zorder=2)\n",
    "    text.set_path_effects([pe.Stroke(linewidth=5, foreground='w'), pe.Normal()])\n",
    "    \n",
    "#grid\n",
    "\n",
    "ax.grid(color='white', linewidth=2)\n",
    "\n",
    "#labels\n",
    "\n",
    "ax.set_xlabel('Assists per game', labelpad=10)\n",
    "ax.set_ylabel('Goals per game', labelpad=10)\n",
    "\n",
    "#limit\n",
    "ax.set_xlim(0.2, 1)\n",
    "ax.set_ylim(-0.1, 0.8)\n",
    "\n",
    "plt.show()"
   ]
  },
  {
   "cell_type": "markdown",
   "metadata": {},
   "source": [
    "## Yellow teams per team"
   ]
  },
  {
   "cell_type": "code",
   "execution_count": 72,
   "metadata": {},
   "outputs": [],
   "source": [
    "yellow = {}\n",
    "red = {}\n",
    "\n",
    "for team in teams:\n",
    "    yellow[team] = data[data['team'] == team].yellow_cards.sum()\n",
    "    red[team] = data[data['team'] == team].red_cards.sum()"
   ]
  },
  {
   "cell_type": "code",
   "execution_count": 103,
   "metadata": {},
   "outputs": [],
   "source": [
    "most_yellow = sorted(yellow.keys(), key=yellow.get)"
   ]
  },
  {
   "cell_type": "code",
   "execution_count": 97,
   "metadata": {},
   "outputs": [
    {
     "data": {
      "image/png": "[encoded data removed]",
      "text/plain": [
       "<Figure size 360x576 with 1 Axes>"
      ]
     },
     "metadata": {
      "needs_background": "light"
     },
     "output_type": "display_data"
    }
   ],
   "source": [
    "fig = plt.figure(figsize=(5, 8))\n",
    "ax = fig.add_subplot(111)\n",
    "\n",
    "y_val = 0\n",
    "\n",
    "for team in most_yellow:\n",
    "    ax.barh(y_val, yellow[team], color=t_color[team], alpha=0.8)\n",
    "    text = ax.text(yellow[team]+1, y_val, yellow[team], ha='left', va='center')\n",
    "    text.set_path_effects([pe.Stroke(linewidth=5, foreground='w'), pe.Normal()])\n",
    "    y_val+=1\n",
    "    \n",
    "#erase ticks  \n",
    "ax.set_xticks([])\n",
    "#y-ticks to team names\n",
    "ax.set_yticks(np.arange(0, 21, 1))\n",
    "ax.set_yticklabels(most_yellow)\n",
    "\n",
    "#labels\n",
    "\n",
    "ax.set_xlabel('Yellow label', labelpad=10)\n",
    "\n",
    "#limits\n",
    "ax.set_xlim(0,100)\n",
    "ax.set_ylim(-0.7,19.5)\n",
    "\n",
    "plt.show()"
   ]
  },
  {
   "cell_type": "markdown",
   "metadata": {},
   "source": [
    "# Measuring creativity"
   ]
  },
  {
   "cell_type": "code",
   "execution_count": 98,
   "metadata": {},
   "outputs": [],
   "source": [
    "creativity = {}\n",
    "\n",
    "for team in teams:\n",
    "    creativity[team] = data[data['team'] == team].creativity.sum()"
   ]
  },
  {
   "cell_type": "code",
   "execution_count": 106,
   "metadata": {},
   "outputs": [],
   "source": [
    "most_creative = sorted(creativity.keys(), key=creativity.get)"
   ]
  },
  {
   "cell_type": "code",
   "execution_count": 108,
   "metadata": {},
   "outputs": [
    {
     "data": {
      "image/png": "[encoded data removed]",
      "text/plain": [
       "<Figure size 360x576 with 1 Axes>"
      ]
     },
     "metadata": {
      "needs_background": "light"
     },
     "output_type": "display_data"
    }
   ],
   "source": [
    "fig = plt.figure(figsize=(5,8))\n",
    "ax = fig.add_subplot(111)\n",
    "\n",
    "#making horizontal bar\n",
    "y_val = 0\n",
    "\n",
    "for team in most_creative:\n",
    "    ax.barh(y_val, creativity[team], color=t_color[team], alpha=0.8)\n",
    "    text = ax.text(creativity[team]+50, y_val, '%i'%creativity[team], ha='left', va='center')\n",
    "    text.set_path_effects([pe.Stroke(linewidth=5, foreground='w'), pe.Normal()])\n",
    "    y_val+=1\n",
    "    \n",
    "ax.set_xticks([])#ticks out\n",
    "\n",
    "#y-ticks to team names\n",
    "ax.set_yticks(np.arange(0,21,1))\n",
    "ax.set_yticklabels(most_creative)\n",
    "\n",
    "ax.set_xlabel('creativity', labelpad=10)\n",
    "\n",
    "\n",
    "ax.set_xlim(0, 10000)\n",
    "ax.set_ylim(-0.8, 19.8)\n",
    "plt.show()\n",
    "    "
   ]
  },
  {
   "cell_type": "markdown",
   "metadata": {},
   "source": [
    "## Best saves"
   ]
  },
  {
   "cell_type": "code",
   "execution_count": 115,
   "metadata": {},
   "outputs": [],
   "source": [
    "saves = {}\n",
    "clean_sheet = {}\n",
    "\n",
    "for player in players:\n",
    "    mins=data[data['full'] == player].minutes.sum()/90.\n",
    "    if mins >=10:\n",
    "        saves[player] = data[data['full'] == player].saves.sum()/mins\n",
    "        clean_sheet[player] = data[data['full'] == player].clean_sheet.sum()"
   ]
  },
  {
   "cell_type": "code",
   "execution_count": 116,
   "metadata": {},
   "outputs": [],
   "source": [
    "top_goalie = sorted(saves.keys(), key=saves.get, reverse=True)"
   ]
  },
  {
   "cell_type": "code",
   "execution_count": null,
   "metadata": {},
   "outputs": [],
   "source": []
  },
  {
   "cell_type": "code",
   "execution_count": 118,
   "metadata": {},
   "outputs": [
    {
     "data": {
      "image/png": "[encoded data removed]",
      "text/plain": [
       "<Figure size 936x936 with 1 Axes>"
      ]
     },
     "metadata": {
      "needs_background": "light"
     },
     "output_type": "display_data"
    }
   ],
   "source": [
    "fig = plt.figure(figsize=(13, 13))\n",
    "ax = fig.add_subplot(111)\n",
    "\n",
    "for keeper in top_goalie:\n",
    "    team = data[data['full'] == keeper].team.iloc[0]\n",
    "    ax.plot(clean_sheet[keeper], saves[keeper], 'o', color=t_color[team], zorder=3)\n",
    "    text = ax.text(clean_sheet[keeper]+0.2, saves[keeper], size=14, va='center', ha='left', zorder=2)\n",
    "    text.set_path_effects([pe.Stroke(linewidth=5, foreground='w'), pe.Normal()])\n",
    "    \n",
    "\n",
    "ax.grid(color='white', linewidth=2)\n",
    "\n",
    "\n",
    "ax.set_xlabel('Clean sheets', labelpad=10)\n",
    "ax.set_ylabel('Saves per game', labelpad=10)\n",
    "\n",
    "ax.set_xlim(0, 14)\n",
    "ax.set_ylim(1.5, 5)\n",
    "\n",
    "plt.show()"
   ]
  },
  {
   "cell_type": "code",
   "execution_count": null,
   "metadata": {},
   "outputs": [],
   "source": []
  },
  {
   "cell_type": "code",
   "execution_count": null,
   "metadata": {},
   "outputs": [],
   "source": []
  },
  {
   "cell_type": "code",
   "execution_count": null,
   "metadata": {},
   "outputs": [],
   "source": []
  },
  {
   "cell_type": "code",
   "execution_count": null,
   "metadata": {},
   "outputs": [],
   "source": []
  },
  {
   "cell_type": "code",
   "execution_count": null,
   "metadata": {},
   "outputs": [],
   "source": []
  },
  {
   "cell_type": "code",
   "execution_count": null,
   "metadata": {},
   "outputs": [],
   "source": []
  },
  {
   "cell_type": "code",
   "execution_count": null,
   "metadata": {},
   "outputs": [],
   "source": []
  },
  {
   "cell_type": "code",
   "execution_count": null,
   "metadata": {},
   "outputs": [],
   "source": []
  },
  {
   "cell_type": "code",
   "execution_count": null,
   "metadata": {},
   "outputs": [],
   "source": []
  },
  {
   "cell_type": "code",
   "execution_count": null,
   "metadata": {},
   "outputs": [],
   "source": []
  },
  {
   "cell_type": "code",
   "execution_count": null,
   "metadata": {},
   "outputs": [],
   "source": []
  },
  {
   "cell_type": "code",
   "execution_count": null,
   "metadata": {},
   "outputs": [],
   "source": []
  },
  {
   "cell_type": "code",
   "execution_count": null,
   "metadata": {},
   "outputs": [],
   "source": []
  },
  {
   "cell_type": "code",
   "execution_count": null,
   "metadata": {},
   "outputs": [],
   "source": []
  },
  {
   "cell_type": "code",
   "execution_count": null,
   "metadata": {},
   "outputs": [],
   "source": []
  },
  {
   "cell_type": "code",
   "execution_count": null,
   "metadata": {},
   "outputs": [],
   "source": []
  },
  {
   "cell_type": "code",
   "execution_count": null,
   "metadata": {},
   "outputs": [],
   "source": []
  },
  {
   "cell_type": "code",
   "execution_count": null,
   "metadata": {},
   "outputs": [],
   "source": []
  },
  {
   "cell_type": "code",
   "execution_count": null,
   "metadata": {},
   "outputs": [],
   "source": []
  },
  {
   "cell_type": "code",
   "execution_count": null,
   "metadata": {},
   "outputs": [],
   "source": []
  },
  {
   "cell_type": "code",
   "execution_count": null,
   "metadata": {},
   "outputs": [],
   "source": []
  },
  {
   "cell_type": "code",
   "execution_count": null,
   "metadata": {},
   "outputs": [],
   "source": []
  },
  {
   "cell_type": "code",
   "execution_count": null,
   "metadata": {},
   "outputs": [],
   "source": []
  },
  {
   "cell_type": "code",
   "execution_count": null,
   "metadata": {},
   "outputs": [],
   "source": []
  },
  {
   "cell_type": "code",
   "execution_count": null,
   "metadata": {},
   "outputs": [],
   "source": []
  },
  {
   "cell_type": "code",
   "execution_count": null,
   "metadata": {},
   "outputs": [],
   "source": []
  },
  {
   "cell_type": "code",
   "execution_count": null,
   "metadata": {},
   "outputs": [],
   "source": []
  },
  {
   "cell_type": "code",
   "execution_count": null,
   "metadata": {},
   "outputs": [],
   "source": []
  },
  {
   "cell_type": "code",
   "execution_count": null,
   "metadata": {},
   "outputs": [],
   "source": []
  },
  {
   "cell_type": "code",
   "execution_count": null,
   "metadata": {},
   "outputs": [],
   "source": []
  },
  {
   "cell_type": "code",
   "execution_count": null,
   "metadata": {},
   "outputs": [],
   "source": []
  },
  {
   "cell_type": "code",
   "execution_count": null,
   "metadata": {},
   "outputs": [],
   "source": []
  },
  {
   "cell_type": "code",
   "execution_count": null,
   "metadata": {},
   "outputs": [],
   "source": []
  },
  {
   "cell_type": "code",
   "execution_count": null,
   "metadata": {},
   "outputs": [],
   "source": []
  },
  {
   "cell_type": "code",
   "execution_count": null,
   "metadata": {},
   "outputs": [],
   "source": []
  },
  {
   "cell_type": "code",
   "execution_count": null,
   "metadata": {},
   "outputs": [],
   "source": []
  },
  {
   "cell_type": "code",
   "execution_count": null,
   "metadata": {},
   "outputs": [],
   "source": []
  }
 ],
 "metadata": {
  "kernelspec": {
   "display_name": "Python [conda env:ironhack_env] *",
   "language": "python",
   "name": "conda-env-ironhack_env-py"
  },
  "language_info": {
   "codemirror_mode": {
    "name": "ipython",
    "version": 3
   },
   "file_extension": ".py",
   "mimetype": "text/x-python",
   "name": "python",
   "nbconvert_exporter": "python",
   "pygments_lexer": "ipython3",
   "version": "3.7.7"
  }
 },
 "nbformat": 4,
 "nbformat_minor": 4
}
